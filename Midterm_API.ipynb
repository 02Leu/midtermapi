{
 "cells": [
  {
   "cell_type": "code",
   "execution_count": 8,
   "metadata": {},
   "outputs": [
    {
     "name": "stdout",
     "output_type": "stream",
     "text": [
      "Room has been created. Room ID:  Y2lzY29zcGFyazovL3VybjpURUFNOnVzLXdlc3QtMl9yL1JPT00vNTA3ZWJkODAtODQ3OC0xMWVmLTlkY2QtOGJmYjU0ZjI4MDQ0\n"
     ]
    }
   ],
   "source": [
    "import webexteamssdk\n",
    "webex = webexteamssdk.WebexTeamsAPI(access_token=\"YjJiZjQ0YjEtYzRkYy00MjhhLWIwZDgtZDU3Nzg5YjIyNjQwZjQ3Y2YxMzgtYjUz_P0A1_1ad92174-dfe2-4740-b008-57218895946c\")\n",
    "room = webex.rooms.create(title=\"Webex Miterm API\")\n",
    "\n",
    "print(\"Room has been created. Room ID: \", room.id)"
   ]
  },
  {
   "cell_type": "code",
   "execution_count": 9,
   "metadata": {},
   "outputs": [
    {
     "name": "stdout",
     "output_type": "stream",
     "text": [
      "Message sent successfully!  Y2lzY29zcGFyazovL3VybjpURUFNOnVzLXdlc3QtMl9yL01FU1NBR0UvYTM5YTM4ZjAtODQ3OC0xMWVmLWFlM2UtNTNkYzJiYzVkYmRi\n"
     ]
    }
   ],
   "source": [
    "message = webex.messages.create(roomId=\"Y2lzY29zcGFyazovL3VybjpURUFNOnVzLXdlc3QtMl9yL1JPT00vNTA3ZWJkODAtODQ3OC0xMWVmLTlkY2QtOGJmYjU0ZjI4MDQ0\", text=\"Midterm Na Now\")\n",
    "print(\"Message sent successfully! \",message.id)"
   ]
  },
  {
   "cell_type": "code",
   "execution_count": 11,
   "metadata": {},
   "outputs": [
    {
     "name": "stdout",
     "output_type": "stream",
     "text": [
      "Successfully added aaronalejandro308@gmail.com to the room.\n",
      "Successfully added mercadomarc6@gmail.com to the room.\n",
      "Successfully added jacobpalenciaau@gmail.com to the room.\n"
     ]
    }
   ],
   "source": [
    "participants = [\n",
    "    'aaronalejandro308@gmail.com',\n",
    "    'mercadomarc6@gmail.com',\n",
    "    'jacobpalenciaau@gmail.com'\n",
    "]\n",
    "\n",
    "for email in participants:\n",
    "    try:\n",
    "        webex.memberships.create(roomId=\"Y2lzY29zcGFyazovL3VybjpURUFNOnVzLXdlc3QtMl9yL1JPT00vNTA3ZWJkODAtODQ3OC0xMWVmLTlkY2QtOGJmYjU0ZjI4MDQ0\", personEmail=email)\n",
    "        print(f'Successfully added {email} to the room.')\n",
    "    except Exception as e:\n",
    "        print(f'Failed to add {email}. Error: {str(e)}')"
   ]
  },
  {
   "cell_type": "code",
   "execution_count": 12,
   "metadata": {},
   "outputs": [
    {
     "name": "stdout",
     "output_type": "stream",
     "text": [
      "Room Messages:\n",
      "Message ID: Y2lzY29zcGFyazovL3VybjpURUFNOnVzLXdlc3QtMl9yL01FU1NBR0UvYTM5YTM4ZjAtODQ3OC0xMWVmLWFlM2UtNTNkYzJiYzVkYmRi, Text: Midterm Na Now\n"
     ]
    }
   ],
   "source": [
    "messages = webex.messages.list(roomId=\"Y2lzY29zcGFyazovL3VybjpURUFNOnVzLXdlc3QtMl9yL1JPT00vNTA3ZWJkODAtODQ3OC0xMWVmLTlkY2QtOGJmYjU0ZjI4MDQ0\")\n",
    "\n",
    "print(\"Room Messages:\")\n",
    "for message in messages:\n",
    "    print(f\"Message ID: {message.id}, Text: {message.text}\")"
   ]
  },
  {
   "cell_type": "code",
   "execution_count": 13,
   "metadata": {},
   "outputs": [
    {
     "name": "stdout",
     "output_type": "stream",
     "text": [
      "Message with ID Y2lzY29zcGFyazovL3VybjpURUFNOnVzLXdlc3QtMl9yL01FU1NBR0UvYTM5YTM4ZjAtODQ3OC0xMWVmLWFlM2UtNTNkYzJiYzVkYmRi has been deleted.\n"
     ]
    }
   ],
   "source": [
    "try:\n",
    "    webex.messages.delete(messageId=\"Y2lzY29zcGFyazovL3VybjpURUFNOnVzLXdlc3QtMl9yL01FU1NBR0UvYTM5YTM4ZjAtODQ3OC0xMWVmLWFlM2UtNTNkYzJiYzVkYmRi\")\n",
    "    print(f\"Message with ID {message.id} has been deleted.\")\n",
    "except Exception as e:\n",
    "    print(f\"Failed to delete message with ID {message.id}. Error: {str(e)}\")"
   ]
  },
  {
   "cell_type": "code",
   "execution_count": 21,
   "metadata": {},
   "outputs": [
    {
     "name": "stdout",
     "output_type": "stream",
     "text": [
      "Faker User Profiles:\n",
      "\n",
      "Name: Monica Garcia\n",
      "Email: edwardseric@example.com\n",
      "Phone Number: 9832577778\n",
      "\n",
      "Name: Mr. Chad Pope\n",
      "Email: michelle20@example.org\n",
      "Phone Number: 444-450-9327x684\n",
      "\n",
      "Name: Anne Flores\n",
      "Email: zkrueger@example.com\n",
      "Phone Number: 001-850-337-3925x955\n",
      "\n",
      "Name: Rebecca Gutierrez\n",
      "Email: xthomas@example.net\n",
      "Phone Number: 6138529077\n",
      "\n",
      "Name: Jennifer Jones\n",
      "Email: andreapowers@example.org\n",
      "Phone Number: (278)379-1168x82519\n",
      "\n",
      "Name: Dennis Braun\n",
      "Email: pamelacampos@example.com\n",
      "Phone Number: 415.763.6381x379\n",
      "\n",
      "Name: David Clark\n",
      "Email: dillon60@example.com\n",
      "Phone Number: 001-839-489-8363\n",
      "\n",
      "Name: Seth Woodward\n",
      "Email: yhicks@example.org\n",
      "Phone Number: (620)806-7804x959\n",
      "\n",
      "Name: Angela Little\n",
      "Email: matthewthompson@example.com\n",
      "Phone Number: 6898615635\n",
      "\n",
      "Name: Erin Conner\n",
      "Email: beth59@example.org\n",
      "Phone Number: +1-425-601-4869x50798\n",
      "\n"
     ]
    }
   ],
   "source": [
    "from faker import Faker\n",
    "fake = Faker()\n",
    "\n",
    "print(\"Faker User Profiles:\\n\")\n",
    "for _ in range (10):\n",
    "    name = fake.name()\n",
    "    email = fake.email()\n",
    "    phone_number = fake.phone_number()\n",
    "\n",
    "    print(f\"Name: {name}\\nEmail: {email}\\nPhone Number: {phone_number}\\n\")"
   ]
  },
  {
   "cell_type": "code",
   "execution_count": 28,
   "metadata": {},
   "outputs": [
    {
     "name": "stdout",
     "output_type": "stream",
     "text": [
      "Fake Transaction Records:\n",
      "\n",
      "Transaction ID: P6QQQVFJHM\n",
      "Transaction Date: 2021-05-14\n",
      "Transaction Amount: $4184.66\n",
      "\n",
      "Transaction ID: YJMPASUL5V\n",
      "Transaction Date: 2024-04-15\n",
      "Transaction Amount: $2893.5\n",
      "\n",
      "Transaction ID: XUH47UNKYY\n",
      "Transaction Date: 2020-05-25\n",
      "Transaction Amount: $2531.99\n",
      "\n",
      "Transaction ID: MX08UO6NG6\n",
      "Transaction Date: 2019-10-21\n",
      "Transaction Amount: $4206.37\n",
      "\n",
      "Transaction ID: 8ZNTVPVTJS\n",
      "Transaction Date: 2021-07-05\n",
      "Transaction Amount: $4209.89\n",
      "\n",
      "Transaction ID: PR6AHOI295\n",
      "Transaction Date: 2023-01-19\n",
      "Transaction Amount: $2795.96\n",
      "\n",
      "Transaction ID: GKFRVCNE0U\n",
      "Transaction Date: 2020-02-22\n",
      "Transaction Amount: $2830.3\n",
      "\n",
      "Transaction ID: OD54K0EBJY\n",
      "Transaction Date: 2024-07-24\n",
      "Transaction Amount: $3360.0\n",
      "\n",
      "Transaction ID: R6O9Z5GJLT\n",
      "Transaction Date: 2023-03-24\n",
      "Transaction Amount: $1172.5\n",
      "\n",
      "Transaction ID: X19E00DRSR\n",
      "Transaction Date: 2022-08-23\n",
      "Transaction Amount: $3620.17\n",
      "\n"
     ]
    }
   ],
   "source": [
    "import random\n",
    "from faker import Faker\n",
    "\n",
    "fake = Faker()\n",
    "\n",
    "def generate_transaction_id(length=10):\n",
    "    return ''.join(random.choices('ABCDEFGHIJKLMNOPQRSTUVWXYZ0123456789', k=length))\n",
    "\n",
    "def generate_transaction_amount(min_amount=100.00, max_amount=5000.00):\n",
    "    return round(random.uniform(min_amount, max_amount), 2)\n",
    "\n",
    "print(\"Fake Transaction Records:\\n\")\n",
    "for _ in range(10):\n",
    "    transaction_id = generate_transaction_id()\n",
    "    transaction_date = fake.date_between(start_date='-5y', end_date='today').strftime('%Y-%m-%d')\n",
    "    transaction_amount = generate_transaction_amount()\n",
    "\n",
    "    print(f\"Transaction ID: {transaction_id}\\nTransaction Date: {transaction_date}\\nTransaction Amount: ${transaction_amount}\\n\")\n",
    "\n"
   ]
  },
  {
   "cell_type": "code",
   "execution_count": null,
   "metadata": {},
   "outputs": [],
   "source": []
  }
 ],
 "metadata": {
  "kernelspec": {
   "display_name": "Python 3",
   "language": "python",
   "name": "python3"
  },
  "language_info": {
   "codemirror_mode": {
    "name": "ipython",
    "version": 3
   },
   "file_extension": ".py",
   "mimetype": "text/x-python",
   "name": "python",
   "nbconvert_exporter": "python",
   "pygments_lexer": "ipython3",
   "version": "3.12.3"
  }
 },
 "nbformat": 4,
 "nbformat_minor": 2
}
